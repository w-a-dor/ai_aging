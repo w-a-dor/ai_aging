{
 "cells": [
  {
   "cell_type": "code",
   "execution_count": 1,
   "id": "initial_id",
   "metadata": {
    "ExecuteTime": {
     "end_time": "2025-06-23T08:26:15.680724Z",
     "start_time": "2025-06-23T08:26:15.322218Z"
    },
    "collapsed": true
   },
   "outputs": [],
   "source": [
    "import pandas as pd"
   ]
  },
  {
   "cell_type": "code",
   "execution_count": 34,
   "id": "c05def1f24a928e",
   "metadata": {
    "ExecuteTime": {
     "end_time": "2025-06-19T11:23:29.303848Z",
     "start_time": "2025-06-19T11:23:28.597540Z"
    }
   },
   "outputs": [],
   "source": [
    "# --- Load data ---\n",
    "eurostat = pd.read_csv('original_data/eurostat.csv')"
   ]
  },
  {
   "cell_type": "code",
   "execution_count": 36,
   "id": "790ab0d691d178dc",
   "metadata": {
    "ExecuteTime": {
     "end_time": "2025-06-19T11:23:29.377764Z",
     "start_time": "2025-06-19T11:23:29.322701Z"
    }
   },
   "outputs": [],
   "source": [
    "# --- Prepare Eurostat aging data ---\n",
    "selected_cols = ['age', 'sex', 'nace_r2', 'geo', 'TIME_PERIOD', 'OBS_VALUE']\n",
    "eurostat = eurostat[selected_cols].copy()"
   ]
  },
  {
   "cell_type": "code",
   "execution_count": 37,
   "id": "968b2a864bce35f2",
   "metadata": {
    "ExecuteTime": {
     "end_time": "2025-06-19T11:23:29.387185Z",
     "start_time": "2025-06-19T11:23:29.385313Z"
    }
   },
   "outputs": [],
   "source": [
    "eu_countries = [\n",
    "    'Austria', 'Belgium', 'Bulgaria', 'Croatia', 'Cyprus', 'Czechia',\n",
    "    'Denmark', 'Estonia', 'Finland', 'France', 'Germany', 'Greece',\n",
    "    'Hungary', 'Ireland', 'Italy', 'Latvia', 'Lithuania', 'Luxembourg',\n",
    "    'Malta', 'Netherlands', 'Poland', 'Portugal', 'Romania', 'Slovakia',\n",
    "    'Slovenia', 'Spain', 'Sweden'\n",
    "]"
   ]
  },
  {
   "cell_type": "code",
   "execution_count": 38,
   "id": "c9a4b102f7a3125f",
   "metadata": {
    "ExecuteTime": {
     "end_time": "2025-06-19T11:23:29.438087Z",
     "start_time": "2025-06-19T11:23:29.394154Z"
    }
   },
   "outputs": [],
   "source": [
    "# Filter relevant observations\n",
    "eurostat = eurostat[\n",
    "    eurostat[\"TIME_PERIOD\"].isin([2014, 2024]) &\n",
    "    (eurostat[\"sex\"] == \"Total\") &\n",
    "    (eurostat[\"age\"].isin([\"15 years or over\", \"50 years or over\"])) &\n",
    "    (eurostat[\"geo\"].isin(eu_countries))\n",
    "]"
   ]
  },
  {
   "cell_type": "code",
   "execution_count": 39,
   "id": "2b179059dcdb97ac",
   "metadata": {
    "ExecuteTime": {
     "end_time": "2025-06-19T11:23:29.449224Z",
     "start_time": "2025-06-19T11:23:29.445543Z"
    }
   },
   "outputs": [],
   "source": [
    "eurostat = eurostat[['age', 'nace_r2', 'geo', 'TIME_PERIOD', 'OBS_VALUE']]\n",
    "eurostat.columns = ['age', 'economic_activity', 'country', 'year', 'num_of_workers']\n",
    "\n",
    "excluded = ['No response', 'Total - all NACE activities', 'Unknown NACE activity']\n",
    "eurostat = eurostat[~eurostat[\"economic_activity\"].isin(excluded)]"
   ]
  },
  {
   "cell_type": "code",
   "execution_count": 41,
   "id": "9622d0f45a86d6d3",
   "metadata": {
    "ExecuteTime": {
     "end_time": "2025-06-19T11:23:29.486263Z",
     "start_time": "2025-06-19T11:23:29.481228Z"
    }
   },
   "outputs": [],
   "source": [
    "eurostat_countries = eurostat.groupby([\"country\", \"year\", \"age\"])[\"num_of_workers\"].sum().reset_index()\n",
    "eurostat_countries[\"num_of_workers\"] = eurostat_countries[\"num_of_workers\"] * 1000"
   ]
  },
  {
   "cell_type": "code",
   "execution_count": 43,
   "id": "5c9977bfb98c2a80",
   "metadata": {
    "ExecuteTime": {
     "end_time": "2025-06-19T11:23:29.540516Z",
     "start_time": "2025-06-19T11:23:29.536129Z"
    }
   },
   "outputs": [],
   "source": [
    "# Pivot for aging ratios\n",
    "eurostat_countries = eurostat_countries.pivot_table(\n",
    "    index=[\"country\"],\n",
    "    columns=[\"age\", \"year\"],\n",
    "    values=\"num_of_workers\",\n",
    "    aggfunc=\"sum\"\n",
    ")"
   ]
  },
  {
   "cell_type": "code",
   "execution_count": 44,
   "id": "910e88163d1a6887",
   "metadata": {
    "ExecuteTime": {
     "end_time": "2025-06-19T11:23:29.561745Z",
     "start_time": "2025-06-19T11:23:29.558940Z"
    }
   },
   "outputs": [],
   "source": [
    "# Flatten MultiIndex and rename columns for merging\n",
    "eurostat_countries = eurostat_countries.reset_index()\n",
    "eurostat_countries.columns = [\n",
    "    f\"{col[0]}_{col[1]}\" if isinstance(col, tuple) else col\n",
    "    for col in eurostat_countries.columns\n",
    "]\n",
    "eurostat_countries.columns = [col.rstrip(\"_\") for col in eurostat_countries.columns]"
   ]
  },
  {
   "cell_type": "code",
   "execution_count": 47,
   "id": "f4313b9d84cf57d3",
   "metadata": {
    "ExecuteTime": {
     "end_time": "2025-06-19T11:23:29.629127Z",
     "start_time": "2025-06-19T11:23:29.626454Z"
    }
   },
   "outputs": [],
   "source": [
    "# Compute aging ratios\n",
    "eurostat_countries[\"aging_score_2014\"] = eurostat_countries[\"50 years or over_2014\"] / eurostat_countries[\"15 years or over_2014\"] * 100\n",
    "eurostat_countries[\"aging_score_2024\"] = eurostat_countries[\"50 years or over_2024\"] / eurostat_countries[\"15 years or over_2024\"] * 100\n",
    "eurostat_countries[\"aging_diff_2014_2024\"] = (eurostat_countries[\"aging_score_2024\"] - eurostat_countries[\"aging_score_2014\"])"
   ]
  },
  {
   "cell_type": "code",
   "execution_count": 49,
   "id": "d6593c808e517bd1",
   "metadata": {
    "ExecuteTime": {
     "end_time": "2025-06-19T11:23:29.730920Z",
     "start_time": "2025-06-19T11:23:29.727503Z"
    }
   },
   "outputs": [],
   "source": [
    "eurostat_countries.to_csv(\"transformed_data/eurostat_countries.csv\")"
   ]
  }
 ],
 "metadata": {
  "kernelspec": {
   "display_name": "Python (ml)",
   "language": "python",
   "name": "ml"
  },
  "language_info": {
   "codemirror_mode": {
    "name": "ipython",
    "version": 2
   },
   "file_extension": ".py",
   "mimetype": "text/x-python",
   "name": "python",
   "nbconvert_exporter": "python",
   "pygments_lexer": "ipython2",
   "version": "2.7.6"
  }
 },
 "nbformat": 4,
 "nbformat_minor": 5
}
