{
 "cells": [
  {
   "cell_type": "code",
   "execution_count": 30,
   "id": "initial_id",
   "metadata": {
    "ExecuteTime": {
     "end_time": "2025-06-20T11:17:07.919881Z",
     "start_time": "2025-06-20T11:17:07.917275Z"
    },
    "collapsed": true
   },
   "outputs": [],
   "source": [
    "import pandas as pd"
   ]
  },
  {
   "cell_type": "code",
   "execution_count": 31,
   "id": "c05def1f24a928e",
   "metadata": {
    "ExecuteTime": {
     "end_time": "2025-06-20T11:17:08.638138Z",
     "start_time": "2025-06-20T11:17:07.932877Z"
    }
   },
   "outputs": [],
   "source": [
    "# --- Load data ---\n",
    "eurostat = pd.read_csv('original_data/eurostat.csv')\n",
    "nace = pd.read_csv('transformed_data/economic_activity_sector.csv')"
   ]
  },
  {
   "cell_type": "code",
   "execution_count": 33,
   "id": "790ab0d691d178dc",
   "metadata": {
    "ExecuteTime": {
     "end_time": "2025-06-20T11:17:08.709839Z",
     "start_time": "2025-06-20T11:17:08.658494Z"
    }
   },
   "outputs": [],
   "source": [
    "# --- Prepare Eurostat aging data ---\n",
    "selected_cols = ['age', 'sex', 'nace_r2', 'geo', 'TIME_PERIOD', 'OBS_VALUE']\n",
    "eurostat = eurostat[selected_cols].copy()"
   ]
  },
  {
   "cell_type": "code",
   "execution_count": 34,
   "id": "968b2a864bce35f2",
   "metadata": {
    "ExecuteTime": {
     "end_time": "2025-06-20T11:17:08.716774Z",
     "start_time": "2025-06-20T11:17:08.715161Z"
    }
   },
   "outputs": [],
   "source": [
    "eu_countries = [\n",
    "    'Austria', 'Belgium', 'Bulgaria', 'Croatia', 'Cyprus', 'Czechia',\n",
    "    'Denmark', 'Estonia', 'Finland', 'France', 'Germany', 'Greece',\n",
    "    'Hungary', 'Ireland', 'Italy', 'Latvia', 'Lithuania', 'Luxembourg',\n",
    "    'Malta', 'Netherlands', 'Poland', 'Portugal', 'Romania', 'Slovakia',\n",
    "    'Slovenia', 'Spain', 'Sweden'\n",
    "]"
   ]
  },
  {
   "cell_type": "code",
   "execution_count": 35,
   "id": "c9a4b102f7a3125f",
   "metadata": {
    "ExecuteTime": {
     "end_time": "2025-06-20T11:17:08.768560Z",
     "start_time": "2025-06-20T11:17:08.721859Z"
    }
   },
   "outputs": [],
   "source": [
    "# Filter relevant observations\n",
    "eurostat = eurostat[\n",
    "    eurostat[\"TIME_PERIOD\"].isin([2014, 2024]) &\n",
    "    (eurostat[\"sex\"] == \"Total\") &\n",
    "    (eurostat[\"age\"].isin([\"15 years or over\", \"50 years or over\"])) &\n",
    "    (eurostat[\"geo\"].isin(eu_countries))\n",
    "]"
   ]
  },
  {
   "cell_type": "code",
   "execution_count": null,
   "id": "db320d9839039e3d",
   "metadata": {
    "ExecuteTime": {
     "end_time": "2025-06-20T11:17:08.807010Z",
     "start_time": "2025-06-20T11:17:08.798548Z"
    }
   },
   "outputs": [],
   "source": [
    "eurostat = eurostat.merge(nace, how='left', left_on='nace_r2', right_on = \"Economic Activity\")"
   ]
  },
  {
   "cell_type": "code",
   "execution_count": null,
   "id": "2b179059dcdb97ac",
   "metadata": {
    "ExecuteTime": {
     "end_time": "2025-06-20T11:17:08.844473Z",
     "start_time": "2025-06-20T11:17:08.839768Z"
    }
   },
   "outputs": [],
   "source": [
    "eurostat = eurostat[['age', 'Sector', 'geo', 'TIME_PERIOD', 'OBS_VALUE']]\n",
    "eurostat.columns = ['age', 'sector', 'country', 'year', 'num_of_workers']\n",
    "eurostat[\"num_of_workers\"] = eurostat[\"num_of_workers\"] * 1000\n",
    "\n",
    "excluded = ['No response', 'Total - all NACE activities', 'Unknown NACE activity']\n",
    "eurostat = eurostat[~eurostat[\"sector\"].isin(excluded)]"
   ]
  },
  {
   "cell_type": "code",
   "execution_count": 39,
   "id": "5c9977bfb98c2a80",
   "metadata": {
    "ExecuteTime": {
     "end_time": "2025-06-20T11:17:08.880083Z",
     "start_time": "2025-06-20T11:17:08.870437Z"
    }
   },
   "outputs": [],
   "source": [
    "# Pivot for aging ratios\n",
    "eurostat = eurostat.pivot_table(\n",
    "    index=[\"country\", \"sector\"],\n",
    "    columns=[\"age\", \"year\"],\n",
    "    values=\"num_of_workers\",\n",
    "    aggfunc=\"sum\"\n",
    ")"
   ]
  },
  {
   "cell_type": "code",
   "execution_count": 40,
   "id": "910e88163d1a6887",
   "metadata": {
    "ExecuteTime": {
     "end_time": "2025-06-20T11:17:08.888487Z",
     "start_time": "2025-06-20T11:17:08.884709Z"
    }
   },
   "outputs": [],
   "source": [
    "# Flatten MultiIndex and rename columns for merging\n",
    "eurostat = eurostat.reset_index()\n",
    "eurostat.columns = [\n",
    "    f\"{col[0]}_{col[1]}\" if isinstance(col, tuple) else col\n",
    "    for col in eurostat.columns\n",
    "]\n",
    "eurostat.columns = [col.rstrip(\"_\") for col in eurostat.columns]"
   ]
  },
  {
   "cell_type": "code",
   "execution_count": 41,
   "id": "f4313b9d84cf57d3",
   "metadata": {
    "ExecuteTime": {
     "end_time": "2025-06-20T11:17:08.896706Z",
     "start_time": "2025-06-20T11:17:08.894669Z"
    }
   },
   "outputs": [],
   "source": [
    "# Compute aging ratios\n",
    "eurostat[\"aging_score_2014\"] = eurostat[\"50 years or over_2014\"] / eurostat[\"15 years or over_2014\"] * 100\n",
    "eurostat[\"aging_score_2024\"] = eurostat[\"50 years or over_2024\"] / eurostat[\"15 years or over_2024\"] * 100\n",
    "eurostat[\"aging_diff_2014_2024\"] = (eurostat[\"aging_score_2024\"] - eurostat[\"aging_score_2014\"])"
   ]
  },
  {
   "cell_type": "code",
   "execution_count": 43,
   "id": "6253cb8141e70ce1",
   "metadata": {
    "ExecuteTime": {
     "end_time": "2025-06-20T11:17:08.938915Z",
     "start_time": "2025-06-20T11:17:08.936612Z"
    }
   },
   "outputs": [],
   "source": [
    "eurostat.fillna(0, inplace=True)"
   ]
  },
  {
   "cell_type": "code",
   "execution_count": 44,
   "id": "b8026d4d60053b61",
   "metadata": {
    "ExecuteTime": {
     "end_time": "2025-06-20T11:17:08.966720Z",
     "start_time": "2025-06-20T11:17:08.961094Z"
    }
   },
   "outputs": [],
   "source": [
    "eurostat.to_csv(\"transformed_data/eurostat_full.csv\", index=False)"
   ]
  }
 ],
 "metadata": {
  "kernelspec": {
   "display_name": "Python (ml)",
   "language": "python",
   "name": "ml"
  },
  "language_info": {
   "codemirror_mode": {
    "name": "ipython",
    "version": 2
   },
   "file_extension": ".py",
   "mimetype": "text/x-python",
   "name": "python",
   "nbconvert_exporter": "python",
   "pygments_lexer": "ipython2",
   "version": "2.7.6"
  }
 },
 "nbformat": 4,
 "nbformat_minor": 5
}
