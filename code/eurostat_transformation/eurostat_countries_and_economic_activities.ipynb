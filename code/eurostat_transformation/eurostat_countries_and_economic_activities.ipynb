{
 "cells": [
  {
   "cell_type": "code",
   "execution_count": 30,
   "id": "initial_id",
   "metadata": {
    "ExecuteTime": {
     "end_time": "2025-06-20T11:17:07.919881Z",
     "start_time": "2025-06-20T11:17:07.917275Z"
    },
    "collapsed": true
   },
   "outputs": [],
   "source": [
    "import pandas as pd"
   ]
  },
  {
   "cell_type": "code",
   "execution_count": 31,
   "id": "c05def1f24a928e",
   "metadata": {
    "ExecuteTime": {
     "end_time": "2025-06-20T11:17:08.638138Z",
     "start_time": "2025-06-20T11:17:07.932877Z"
    }
   },
   "outputs": [],
   "source": [
    "# --- Load data ---\n",
    "eurostat = pd.read_csv('/Users/weronikadorociak/Documents/LSE/MY498 Capstone Project/Coding/Capstone_Project/Data_cleaning/data/eurostat.csv')\n",
    "nace = pd.read_csv('data/economic_activity_sector.csv')"
   ]
  },
  {
   "cell_type": "code",
   "execution_count": 33,
   "id": "790ab0d691d178dc",
   "metadata": {
    "ExecuteTime": {
     "end_time": "2025-06-20T11:17:08.709839Z",
     "start_time": "2025-06-20T11:17:08.658494Z"
    }
   },
   "outputs": [],
   "source": [
    "# --- Prepare Eurostat aging data ---\n",
    "selected_cols = ['age', 'sex', 'nace_r2', 'geo', 'TIME_PERIOD', 'OBS_VALUE']\n",
    "eurostat = eurostat[selected_cols].copy()"
   ]
  },
  {
   "cell_type": "code",
   "execution_count": 34,
   "id": "968b2a864bce35f2",
   "metadata": {
    "ExecuteTime": {
     "end_time": "2025-06-20T11:17:08.716774Z",
     "start_time": "2025-06-20T11:17:08.715161Z"
    }
   },
   "outputs": [],
   "source": [
    "eu_countries = [\n",
    "    'Austria', 'Belgium', 'Bulgaria', 'Croatia', 'Cyprus', 'Czechia',\n",
    "    'Denmark', 'Estonia', 'Finland', 'France', 'Germany', 'Greece',\n",
    "    'Hungary', 'Ireland', 'Italy', 'Latvia', 'Lithuania', 'Luxembourg',\n",
    "    'Malta', 'Netherlands', 'Poland', 'Portugal', 'Romania', 'Slovakia',\n",
    "    'Slovenia', 'Spain', 'Sweden'\n",
    "]"
   ]
  },
  {
   "cell_type": "code",
   "execution_count": 35,
   "id": "c9a4b102f7a3125f",
   "metadata": {
    "ExecuteTime": {
     "end_time": "2025-06-20T11:17:08.768560Z",
     "start_time": "2025-06-20T11:17:08.721859Z"
    }
   },
   "outputs": [],
   "source": [
    "# Filter relevant observations\n",
    "eurostat = eurostat[\n",
    "    eurostat[\"TIME_PERIOD\"].isin([2014, 2024]) &\n",
    "    (eurostat[\"sex\"] == \"Total\") &\n",
    "    (eurostat[\"age\"].isin([\"15 years or over\", \"50 years or over\"])) &\n",
    "    (eurostat[\"geo\"].isin(eu_countries))\n",
    "]"
   ]
  },
  {
   "cell_type": "code",
   "execution_count": 37,
   "id": "db320d9839039e3d",
   "metadata": {
    "ExecuteTime": {
     "end_time": "2025-06-20T11:17:08.807010Z",
     "start_time": "2025-06-20T11:17:08.798548Z"
    }
   },
   "outputs": [
    {
     "data": {
      "text/html": [
       "<div>\n",
       "<style scoped>\n",
       "    .dataframe tbody tr th:only-of-type {\n",
       "        vertical-align: middle;\n",
       "    }\n",
       "\n",
       "    .dataframe tbody tr th {\n",
       "        vertical-align: top;\n",
       "    }\n",
       "\n",
       "    .dataframe thead th {\n",
       "        text-align: right;\n",
       "    }\n",
       "</style>\n",
       "<table border=\"1\" class=\"dataframe\">\n",
       "  <thead>\n",
       "    <tr style=\"text-align: right;\">\n",
       "      <th></th>\n",
       "      <th>age</th>\n",
       "      <th>sex</th>\n",
       "      <th>nace_r2</th>\n",
       "      <th>geo</th>\n",
       "      <th>TIME_PERIOD</th>\n",
       "      <th>OBS_VALUE</th>\n",
       "      <th>Economic Activity</th>\n",
       "      <th>NACE Code</th>\n",
       "      <th>Sector (Section)</th>\n",
       "      <th>Sector code</th>\n",
       "      <th>Sector</th>\n",
       "    </tr>\n",
       "  </thead>\n",
       "  <tbody>\n",
       "    <tr>\n",
       "      <th>0</th>\n",
       "      <td>15 years or over</td>\n",
       "      <td>Total</td>\n",
       "      <td>Crop and animal production, hunting and relate...</td>\n",
       "      <td>Austria</td>\n",
       "      <td>2014</td>\n",
       "      <td>186.5</td>\n",
       "      <td>Crop and animal production, hunting and relate...</td>\n",
       "      <td>1.0</td>\n",
       "      <td>A – Agriculture, forestry and fishing</td>\n",
       "      <td>A</td>\n",
       "      <td>Agriculture, forestry and fishing</td>\n",
       "    </tr>\n",
       "    <tr>\n",
       "      <th>1</th>\n",
       "      <td>15 years or over</td>\n",
       "      <td>Total</td>\n",
       "      <td>Crop and animal production, hunting and relate...</td>\n",
       "      <td>Austria</td>\n",
       "      <td>2024</td>\n",
       "      <td>112.4</td>\n",
       "      <td>Crop and animal production, hunting and relate...</td>\n",
       "      <td>1.0</td>\n",
       "      <td>A – Agriculture, forestry and fishing</td>\n",
       "      <td>A</td>\n",
       "      <td>Agriculture, forestry and fishing</td>\n",
       "    </tr>\n",
       "    <tr>\n",
       "      <th>2</th>\n",
       "      <td>15 years or over</td>\n",
       "      <td>Total</td>\n",
       "      <td>Crop and animal production, hunting and relate...</td>\n",
       "      <td>Belgium</td>\n",
       "      <td>2014</td>\n",
       "      <td>53.2</td>\n",
       "      <td>Crop and animal production, hunting and relate...</td>\n",
       "      <td>1.0</td>\n",
       "      <td>A – Agriculture, forestry and fishing</td>\n",
       "      <td>A</td>\n",
       "      <td>Agriculture, forestry and fishing</td>\n",
       "    </tr>\n",
       "    <tr>\n",
       "      <th>3</th>\n",
       "      <td>15 years or over</td>\n",
       "      <td>Total</td>\n",
       "      <td>Crop and animal production, hunting and relate...</td>\n",
       "      <td>Belgium</td>\n",
       "      <td>2024</td>\n",
       "      <td>49.2</td>\n",
       "      <td>Crop and animal production, hunting and relate...</td>\n",
       "      <td>1.0</td>\n",
       "      <td>A – Agriculture, forestry and fishing</td>\n",
       "      <td>A</td>\n",
       "      <td>Agriculture, forestry and fishing</td>\n",
       "    </tr>\n",
       "    <tr>\n",
       "      <th>4</th>\n",
       "      <td>15 years or over</td>\n",
       "      <td>Total</td>\n",
       "      <td>Crop and animal production, hunting and relate...</td>\n",
       "      <td>Bulgaria</td>\n",
       "      <td>2014</td>\n",
       "      <td>181.1</td>\n",
       "      <td>Crop and animal production, hunting and relate...</td>\n",
       "      <td>1.0</td>\n",
       "      <td>A – Agriculture, forestry and fishing</td>\n",
       "      <td>A</td>\n",
       "      <td>Agriculture, forestry and fishing</td>\n",
       "    </tr>\n",
       "    <tr>\n",
       "      <th>...</th>\n",
       "      <td>...</td>\n",
       "      <td>...</td>\n",
       "      <td>...</td>\n",
       "      <td>...</td>\n",
       "      <td>...</td>\n",
       "      <td>...</td>\n",
       "      <td>...</td>\n",
       "      <td>...</td>\n",
       "      <td>...</td>\n",
       "      <td>...</td>\n",
       "      <td>...</td>\n",
       "    </tr>\n",
       "    <tr>\n",
       "      <th>9823</th>\n",
       "      <td>50 years or over</td>\n",
       "      <td>Total</td>\n",
       "      <td>Unknown NACE activity</td>\n",
       "      <td>Sweden</td>\n",
       "      <td>2024</td>\n",
       "      <td>NaN</td>\n",
       "      <td>NaN</td>\n",
       "      <td>NaN</td>\n",
       "      <td>NaN</td>\n",
       "      <td>NaN</td>\n",
       "      <td>NaN</td>\n",
       "    </tr>\n",
       "    <tr>\n",
       "      <th>9824</th>\n",
       "      <td>50 years or over</td>\n",
       "      <td>Total</td>\n",
       "      <td>Unknown NACE activity</td>\n",
       "      <td>Slovenia</td>\n",
       "      <td>2014</td>\n",
       "      <td>NaN</td>\n",
       "      <td>NaN</td>\n",
       "      <td>NaN</td>\n",
       "      <td>NaN</td>\n",
       "      <td>NaN</td>\n",
       "      <td>NaN</td>\n",
       "    </tr>\n",
       "    <tr>\n",
       "      <th>9825</th>\n",
       "      <td>50 years or over</td>\n",
       "      <td>Total</td>\n",
       "      <td>Unknown NACE activity</td>\n",
       "      <td>Slovenia</td>\n",
       "      <td>2024</td>\n",
       "      <td>NaN</td>\n",
       "      <td>NaN</td>\n",
       "      <td>NaN</td>\n",
       "      <td>NaN</td>\n",
       "      <td>NaN</td>\n",
       "      <td>NaN</td>\n",
       "    </tr>\n",
       "    <tr>\n",
       "      <th>9826</th>\n",
       "      <td>50 years or over</td>\n",
       "      <td>Total</td>\n",
       "      <td>Unknown NACE activity</td>\n",
       "      <td>Slovakia</td>\n",
       "      <td>2014</td>\n",
       "      <td>NaN</td>\n",
       "      <td>NaN</td>\n",
       "      <td>NaN</td>\n",
       "      <td>NaN</td>\n",
       "      <td>NaN</td>\n",
       "      <td>NaN</td>\n",
       "    </tr>\n",
       "    <tr>\n",
       "      <th>9827</th>\n",
       "      <td>50 years or over</td>\n",
       "      <td>Total</td>\n",
       "      <td>Unknown NACE activity</td>\n",
       "      <td>Slovakia</td>\n",
       "      <td>2024</td>\n",
       "      <td>NaN</td>\n",
       "      <td>NaN</td>\n",
       "      <td>NaN</td>\n",
       "      <td>NaN</td>\n",
       "      <td>NaN</td>\n",
       "      <td>NaN</td>\n",
       "    </tr>\n",
       "  </tbody>\n",
       "</table>\n",
       "<p>9828 rows × 11 columns</p>\n",
       "</div>"
      ],
      "text/plain": [
       "                   age    sex  \\\n",
       "0     15 years or over  Total   \n",
       "1     15 years or over  Total   \n",
       "2     15 years or over  Total   \n",
       "3     15 years or over  Total   \n",
       "4     15 years or over  Total   \n",
       "...                ...    ...   \n",
       "9823  50 years or over  Total   \n",
       "9824  50 years or over  Total   \n",
       "9825  50 years or over  Total   \n",
       "9826  50 years or over  Total   \n",
       "9827  50 years or over  Total   \n",
       "\n",
       "                                                nace_r2       geo  \\\n",
       "0     Crop and animal production, hunting and relate...   Austria   \n",
       "1     Crop and animal production, hunting and relate...   Austria   \n",
       "2     Crop and animal production, hunting and relate...   Belgium   \n",
       "3     Crop and animal production, hunting and relate...   Belgium   \n",
       "4     Crop and animal production, hunting and relate...  Bulgaria   \n",
       "...                                                 ...       ...   \n",
       "9823                              Unknown NACE activity    Sweden   \n",
       "9824                              Unknown NACE activity  Slovenia   \n",
       "9825                              Unknown NACE activity  Slovenia   \n",
       "9826                              Unknown NACE activity  Slovakia   \n",
       "9827                              Unknown NACE activity  Slovakia   \n",
       "\n",
       "      TIME_PERIOD  OBS_VALUE  \\\n",
       "0            2014      186.5   \n",
       "1            2024      112.4   \n",
       "2            2014       53.2   \n",
       "3            2024       49.2   \n",
       "4            2014      181.1   \n",
       "...           ...        ...   \n",
       "9823         2024        NaN   \n",
       "9824         2014        NaN   \n",
       "9825         2024        NaN   \n",
       "9826         2014        NaN   \n",
       "9827         2024        NaN   \n",
       "\n",
       "                                      Economic Activity  NACE Code  \\\n",
       "0     Crop and animal production, hunting and relate...        1.0   \n",
       "1     Crop and animal production, hunting and relate...        1.0   \n",
       "2     Crop and animal production, hunting and relate...        1.0   \n",
       "3     Crop and animal production, hunting and relate...        1.0   \n",
       "4     Crop and animal production, hunting and relate...        1.0   \n",
       "...                                                 ...        ...   \n",
       "9823                                                NaN        NaN   \n",
       "9824                                                NaN        NaN   \n",
       "9825                                                NaN        NaN   \n",
       "9826                                                NaN        NaN   \n",
       "9827                                                NaN        NaN   \n",
       "\n",
       "                           Sector (Section) Sector code  \\\n",
       "0     A – Agriculture, forestry and fishing           A   \n",
       "1     A – Agriculture, forestry and fishing           A   \n",
       "2     A – Agriculture, forestry and fishing           A   \n",
       "3     A – Agriculture, forestry and fishing           A   \n",
       "4     A – Agriculture, forestry and fishing           A   \n",
       "...                                     ...         ...   \n",
       "9823                                    NaN         NaN   \n",
       "9824                                    NaN         NaN   \n",
       "9825                                    NaN         NaN   \n",
       "9826                                    NaN         NaN   \n",
       "9827                                    NaN         NaN   \n",
       "\n",
       "                                 Sector  \n",
       "0     Agriculture, forestry and fishing  \n",
       "1     Agriculture, forestry and fishing  \n",
       "2     Agriculture, forestry and fishing  \n",
       "3     Agriculture, forestry and fishing  \n",
       "4     Agriculture, forestry and fishing  \n",
       "...                                 ...  \n",
       "9823                                NaN  \n",
       "9824                                NaN  \n",
       "9825                                NaN  \n",
       "9826                                NaN  \n",
       "9827                                NaN  \n",
       "\n",
       "[9828 rows x 11 columns]"
      ]
     },
     "execution_count": 37,
     "metadata": {},
     "output_type": "execute_result"
    }
   ],
   "source": [
    "eurostat = eurostat.merge(nace, how='left', left_on='nace_r2', right_on = \"Economic Activity\")"
   ]
  },
  {
   "cell_type": "code",
   "execution_count": 38,
   "id": "2b179059dcdb97ac",
   "metadata": {
    "ExecuteTime": {
     "end_time": "2025-06-20T11:17:08.844473Z",
     "start_time": "2025-06-20T11:17:08.839768Z"
    }
   },
   "outputs": [
    {
     "name": "stderr",
     "output_type": "stream",
     "text": [
      "/var/folders/50/y5xpqyg11856c_nx11ysd4y00000gn/T/ipykernel_15947/2660573933.py:3: SettingWithCopyWarning: \n",
      "A value is trying to be set on a copy of a slice from a DataFrame.\n",
      "Try using .loc[row_indexer,col_indexer] = value instead\n",
      "\n",
      "See the caveats in the documentation: https://pandas.pydata.org/pandas-docs/stable/user_guide/indexing.html#returning-a-view-versus-a-copy\n",
      "  eurostat[\"num_of_workers\"] = eurostat[\"num_of_workers\"] * 1000\n"
     ]
    }
   ],
   "source": [
    "eurostat = eurostat[['age', 'Sector', 'geo', 'TIME_PERIOD', 'OBS_VALUE']]\n",
    "eurostat.columns = ['age', 'sector', 'country', 'year', 'num_of_workers']\n",
    "eurostat[\"num_of_workers\"] = eurostat[\"num_of_workers\"] * 1000\n",
    "\n",
    "excluded = ['No response', 'Total - all NACE activities', 'Unknown NACE activity']\n",
    "eurostat = eurostat[~eurostat[\"sector\"].isin(excluded)]"
   ]
  },
  {
   "cell_type": "code",
   "execution_count": 39,
   "id": "5c9977bfb98c2a80",
   "metadata": {
    "ExecuteTime": {
     "end_time": "2025-06-20T11:17:08.880083Z",
     "start_time": "2025-06-20T11:17:08.870437Z"
    }
   },
   "outputs": [],
   "source": [
    "# Pivot for aging ratios\n",
    "eurostat = eurostat.pivot_table(\n",
    "    index=[\"country\", \"sector\"],\n",
    "    columns=[\"age\", \"year\"],\n",
    "    values=\"num_of_workers\",\n",
    "    aggfunc=\"sum\"\n",
    ")"
   ]
  },
  {
   "cell_type": "code",
   "execution_count": 40,
   "id": "910e88163d1a6887",
   "metadata": {
    "ExecuteTime": {
     "end_time": "2025-06-20T11:17:08.888487Z",
     "start_time": "2025-06-20T11:17:08.884709Z"
    }
   },
   "outputs": [],
   "source": [
    "# Flatten MultiIndex and rename columns for merging\n",
    "eurostat = eurostat.reset_index()\n",
    "eurostat.columns = [\n",
    "    f\"{col[0]}_{col[1]}\" if isinstance(col, tuple) else col\n",
    "    for col in eurostat.columns\n",
    "]\n",
    "eurostat.columns = [col.rstrip(\"_\") for col in eurostat.columns]"
   ]
  },
  {
   "cell_type": "code",
   "execution_count": 41,
   "id": "f4313b9d84cf57d3",
   "metadata": {
    "ExecuteTime": {
     "end_time": "2025-06-20T11:17:08.896706Z",
     "start_time": "2025-06-20T11:17:08.894669Z"
    }
   },
   "outputs": [],
   "source": [
    "# Compute aging ratios\n",
    "eurostat[\"aging_score_2014\"] = eurostat[\"50 years or over_2014\"] / eurostat[\"15 years or over_2014\"] * 100\n",
    "eurostat[\"aging_score_2024\"] = eurostat[\"50 years or over_2024\"] / eurostat[\"15 years or over_2024\"] * 100\n",
    "eurostat[\"aging_diff_2014_2024\"] = (eurostat[\"aging_score_2024\"] - eurostat[\"aging_score_2014\"])"
   ]
  },
  {
   "cell_type": "code",
   "execution_count": 43,
   "id": "6253cb8141e70ce1",
   "metadata": {
    "ExecuteTime": {
     "end_time": "2025-06-20T11:17:08.938915Z",
     "start_time": "2025-06-20T11:17:08.936612Z"
    }
   },
   "outputs": [],
   "source": [
    "eurostat.fillna(0, inplace=True)"
   ]
  },
  {
   "cell_type": "code",
   "execution_count": 44,
   "id": "b8026d4d60053b61",
   "metadata": {
    "ExecuteTime": {
     "end_time": "2025-06-20T11:17:08.966720Z",
     "start_time": "2025-06-20T11:17:08.961094Z"
    }
   },
   "outputs": [],
   "source": [
    "eurostat.to_csv(\"/Users/weronikadorociak/Documents/LSE/MY498 Capstone Project/Coding/Capstone_Project/Data_cleaning/data/eurostat_full.csv\", index=False)"
   ]
  }
 ],
 "metadata": {
  "kernelspec": {
   "display_name": "Python (ml)",
   "language": "python",
   "name": "ml"
  },
  "language_info": {
   "codemirror_mode": {
    "name": "ipython",
    "version": 2
   },
   "file_extension": ".py",
   "mimetype": "text/x-python",
   "name": "python",
   "nbconvert_exporter": "python",
   "pygments_lexer": "ipython2",
   "version": "2.7.6"
  }
 },
 "nbformat": 4,
 "nbformat_minor": 5
}
