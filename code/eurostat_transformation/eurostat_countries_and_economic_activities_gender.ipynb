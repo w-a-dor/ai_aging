{
 "cells": [
  {
   "cell_type": "code",
   "execution_count": 33,
   "id": "initial_id",
   "metadata": {
    "ExecuteTime": {
     "end_time": "2025-06-21T11:27:50.494402Z",
     "start_time": "2025-06-21T11:27:50.492615Z"
    },
    "collapsed": true
   },
   "outputs": [],
   "source": [
    "import pandas as pd"
   ]
  },
  {
   "cell_type": "code",
   "execution_count": 34,
   "id": "c05def1f24a928e",
   "metadata": {
    "ExecuteTime": {
     "end_time": "2025-06-21T11:27:51.194850Z",
     "start_time": "2025-06-21T11:27:50.503567Z"
    }
   },
   "outputs": [],
   "source": [
    "# --- Load data ---\n",
    "eurostat = pd.read_csv('original_data/eurostat.csv')\n",
    "nace = pd.read_csv('transformed_data/economic_activity_sector.csv')"
   ]
  },
  {
   "cell_type": "code",
   "execution_count": 35,
   "id": "790ab0d691d178dc",
   "metadata": {
    "ExecuteTime": {
     "end_time": "2025-06-21T11:27:51.264051Z",
     "start_time": "2025-06-21T11:27:51.214004Z"
    }
   },
   "outputs": [],
   "source": [
    "# --- Prepare Eurostat aging data ---\n",
    "selected_cols = ['age', 'sex', 'nace_r2', 'geo', 'TIME_PERIOD', 'OBS_VALUE']\n",
    "eurostat = eurostat[selected_cols].copy()"
   ]
  },
  {
   "cell_type": "code",
   "execution_count": 36,
   "id": "968b2a864bce35f2",
   "metadata": {
    "ExecuteTime": {
     "end_time": "2025-06-21T11:27:51.284459Z",
     "start_time": "2025-06-21T11:27:51.282595Z"
    }
   },
   "outputs": [],
   "source": [
    "# Keep only EU members\n",
    "eu_countries = [\n",
    "    'Austria', 'Belgium', 'Bulgaria', 'Croatia', 'Cyprus', 'Czechia',\n",
    "    'Denmark', 'Estonia', 'Finland', 'France', 'Germany', 'Greece',\n",
    "    'Hungary', 'Ireland', 'Italy', 'Latvia', 'Lithuania', 'Luxembourg',\n",
    "    'Malta', 'Netherlands', 'Poland', 'Portugal', 'Romania', 'Slovakia',\n",
    "    'Slovenia', 'Spain', 'Sweden'\n",
    "]\n",
    "excluded = ['No response', 'Total - all NACE activities', 'Unknown NACE activity']"
   ]
  },
  {
   "cell_type": "code",
   "execution_count": 37,
   "id": "c9a4b102f7a3125f",
   "metadata": {
    "ExecuteTime": {
     "end_time": "2025-06-21T11:27:51.338659Z",
     "start_time": "2025-06-21T11:27:51.302722Z"
    }
   },
   "outputs": [],
   "source": [
    "# Filter relevant observations\n",
    "eurostat = eurostat[\n",
    "    eurostat[\"TIME_PERIOD\"].isin([2014, 2024]) &\n",
    "    (eurostat[\"age\"].isin([\"15 years or over\", \"50 years or over\"])) &\n",
    "    (eurostat[\"geo\"].isin(eu_countries))\n",
    "]\n",
    "\n",
    "eurostat = eurostat[~eurostat[\"nace_r2\"].isin(excluded)]\n",
    "eurostat.columns = ['age', 'gender', 'Economic Activity', 'country', 'year', 'num_of_workers']\n",
    "eurostat[\"num_of_workers\"] = eurostat[\"num_of_workers\"] * 1000\n",
    "\n",
    "excluded = ['No response', 'Total - all NACE activities', 'Unknown NACE activity']\n",
    "eurostat = eurostat[~eurostat[\"Economic Activity\"].isin(excluded)]\n",
    "\n",
    "eurostat = eurostat[~(eurostat[\"gender\"] == \"Total\")]\n",
    "eurostat = eurostat.merge(nace, how='left', on = \"Economic Activity\")"
   ]
  },
  {
   "cell_type": "code",
   "execution_count": 38,
   "id": "5c9977bfb98c2a80",
   "metadata": {
    "ExecuteTime": {
     "end_time": "2025-06-21T11:27:51.410004Z",
     "start_time": "2025-06-21T11:27:51.397939Z"
    }
   },
   "outputs": [],
   "source": [
    "# Pivot for aging ratios\n",
    "eurostat = eurostat.pivot_table(\n",
    "    index=[\"country\", \"sector\"],\n",
    "    columns=[\"age\", \"year\", \"gender\"],\n",
    "    values=\"num_of_workers\",\n",
    "    aggfunc=\"sum\"\n",
    ")"
   ]
  },
  {
   "cell_type": "code",
   "execution_count": 39,
   "id": "910e88163d1a6887",
   "metadata": {
    "ExecuteTime": {
     "end_time": "2025-06-21T11:27:51.446843Z",
     "start_time": "2025-06-21T11:27:51.443928Z"
    }
   },
   "outputs": [],
   "source": [
    "# Reset index first\n",
    "eurostat = eurostat.reset_index()\n",
    "\n",
    "# Flatten MultiIndex columns: (age_group, year, gender) → \"agegroup_year_gender\"\n",
    "eurostat.columns = [\n",
    "    f\"{col[0]}_{col[1]}_{col[2]}\" if isinstance(col, tuple) else col\n",
    "    for col in eurostat.columns\n",
    "]\n",
    "\n",
    "# Optional: replace spaces with underscores and strip trailing underscores\n",
    "eurostat.columns = [col.replace(\" \", \"_\").rstrip(\"_\") for col in eurostat.columns]"
   ]
  },
  {
   "cell_type": "code",
   "execution_count": 40,
   "id": "a75558dd27082049",
   "metadata": {
    "ExecuteTime": {
     "end_time": "2025-06-21T11:27:51.519132Z",
     "start_time": "2025-06-21T11:27:51.516362Z"
    }
   },
   "outputs": [],
   "source": [
    "# Group data by countires\n",
    "eurostat_gender_countries = eurostat.groupby(\"country\")[[\n",
    "    '15_years_or_over_2014_Females',\n",
    "    '15_years_or_over_2014_Males',\n",
    "    '15_years_or_over_2024_Females',\n",
    "    '15_years_or_over_2024_Males',\n",
    "    '50_years_or_over_2014_Females',\n",
    "    '50_years_or_over_2014_Males',\n",
    "    '50_years_or_over_2024_Females',\n",
    "    '50_years_or_over_2024_Males'\n",
    "]].sum()"
   ]
  },
  {
   "cell_type": "code",
   "execution_count": 41,
   "id": "af8e33ddbfebd5cb",
   "metadata": {
    "ExecuteTime": {
     "end_time": "2025-06-21T11:27:51.539580Z",
     "start_time": "2025-06-21T11:27:51.536967Z"
    }
   },
   "outputs": [],
   "source": [
    "# Group data by sectors\n",
    "eurostat_gender_economic_activities = eurostat.groupby(\"sector\")[[\n",
    "    '15_years_or_over_2014_Females',\n",
    "    '15_years_or_over_2014_Males',\n",
    "    '15_years_or_over_2024_Females',\n",
    "    '15_years_or_over_2024_Males',\n",
    "    '50_years_or_over_2014_Females',\n",
    "    '50_years_or_over_2014_Males',\n",
    "    '50_years_or_over_2024_Females',\n",
    "    '50_years_or_over_2024_Males'\n",
    "]].sum()"
   ]
  },
  {
   "cell_type": "code",
   "execution_count": 42,
   "id": "f4313b9d84cf57d3",
   "metadata": {
    "ExecuteTime": {
     "end_time": "2025-06-21T11:27:51.600718Z",
     "start_time": "2025-06-21T11:27:51.596756Z"
    }
   },
   "outputs": [],
   "source": [
    "# Compute gender ratios\n",
    "eurostat_gender_countries[\"gender_ratio_2014\"] = (eurostat_gender_countries['15_years_or_over_2014_Females'] / \\\n",
    "                                                  (eurostat_gender_countries['15_years_or_over_2014_Males'] + eurostat_gender_countries['15_years_or_over_2014_Females'])) * 100\n",
    "\n",
    "eurostat_gender_countries[\"gender_ratio_2024\"] = (eurostat_gender_countries['15_years_or_over_2024_Females'] / \\\n",
    "                                                 (eurostat_gender_countries['15_years_or_over_2024_Males'] + eurostat_gender_countries['15_years_or_over_2024_Females'])) * 100\n",
    "\n",
    "eurostat_gender_countries[\"gender_ratio_2014_2024\"] = eurostat_gender_countries[\"gender_ratio_2024\"] - \\\n",
    "                                                      eurostat_gender_countries[\"gender_ratio_2014\"]\n",
    "\n",
    "eurostat_gender_countries[\"female_ratio_2014\"] = eurostat_gender_countries['50_years_or_over_2014_Females'] / \\\n",
    "                                                 eurostat_gender_countries['15_years_or_over_2014_Females'] * 100\n",
    "\n",
    "eurostat_gender_countries[\"female_ratio_2024\"] = eurostat_gender_countries['50_years_or_over_2024_Females'] / \\\n",
    "                                                 eurostat_gender_countries['15_years_or_over_2024_Females'] * 100\n",
    "\n",
    "eurostat_gender_countries[\"male_ratio_2014\"] = eurostat_gender_countries['50_years_or_over_2014_Males'] / \\\n",
    "                                                 eurostat_gender_countries['15_years_or_over_2014_Males'] * 100\n",
    "\n",
    "eurostat_gender_countries[\"male_ratio_2024\"] = eurostat_gender_countries['50_years_or_over_2024_Males'] / \\\n",
    "                                                 eurostat_gender_countries['15_years_or_over_2024_Males'] * 100\n",
    "\n",
    "eurostat_gender_countries[\"female_diff_2014_2024\"] = eurostat_gender_countries[\"female_ratio_2024\"] - \\\n",
    "                                                     eurostat_gender_countries[\"female_ratio_2014\"]\n",
    "\n",
    "eurostat_gender_countries[\"male_diff_2014_2024\"] = eurostat_gender_countries[\"male_ratio_2024\"] - \\\n",
    "                                                     eurostat_gender_countries[\"male_ratio_2014\"]"
   ]
  },
  {
   "cell_type": "code",
   "execution_count": 43,
   "id": "4b7245ffd0983c9d",
   "metadata": {
    "ExecuteTime": {
     "end_time": "2025-06-21T11:27:51.627030Z",
     "start_time": "2025-06-21T11:27:51.624589Z"
    }
   },
   "outputs": [],
   "source": [
    "eurostat_gender_countries = eurostat_gender_countries.round(2).fillna(0).reset_index()"
   ]
  },
  {
   "cell_type": "code",
   "execution_count": 44,
   "id": "6253cb8141e70ce1",
   "metadata": {
    "ExecuteTime": {
     "end_time": "2025-06-21T11:27:51.697090Z",
     "start_time": "2025-06-21T11:27:51.694729Z"
    }
   },
   "outputs": [],
   "source": [
    "eurostat_gender_countries.to_csv('transformed_data/eurostat_gender_countries.csv', index=False)"
   ]
  },
  {
   "cell_type": "code",
   "execution_count": 45,
   "id": "580c01ae8dc5dd11",
   "metadata": {
    "ExecuteTime": {
     "end_time": "2025-06-21T11:27:51.726957Z",
     "start_time": "2025-06-21T11:27:51.722219Z"
    }
   },
   "outputs": [],
   "source": [
    "# Compute gender ratios\n",
    "eurostat_gender_economic_activities[\"gender_ratio_2014\"] = (eurostat_gender_economic_activities['15_years_or_over_2014_Females'] / \\\n",
    "                                                  (eurostat_gender_economic_activities['15_years_or_over_2014_Males'] + eurostat_gender_economic_activities['15_years_or_over_2014_Females'])) * 100\n",
    "\n",
    "eurostat_gender_economic_activities[\"gender_ratio_2024\"] = (eurostat_gender_economic_activities['15_years_or_over_2024_Females'] / \\\n",
    "                                                  (eurostat_gender_economic_activities['15_years_or_over_2024_Males'] + eurostat_gender_economic_activities['15_years_or_over_2024_Females'])) * 100\n",
    "\n",
    "eurostat_gender_economic_activities[\"gender_ratio_2014_2024\"] = eurostat_gender_economic_activities[\"gender_ratio_2024\"] - \\\n",
    "                                                      eurostat_gender_economic_activities[\"gender_ratio_2014\"]\n",
    "\n",
    "eurostat_gender_economic_activities[\"female_ratio_2014\"] = eurostat_gender_economic_activities['50_years_or_over_2014_Females'] / \\\n",
    "                                                 eurostat_gender_economic_activities['15_years_or_over_2014_Females'] * 100\n",
    "\n",
    "eurostat_gender_economic_activities[\"female_ratio_2024\"] = eurostat_gender_economic_activities['50_years_or_over_2024_Females'] / \\\n",
    "                                                 eurostat_gender_economic_activities['15_years_or_over_2024_Females'] * 100\n",
    "\n",
    "eurostat_gender_economic_activities[\"male_ratio_2014\"] = eurostat_gender_economic_activities['50_years_or_over_2014_Males'] / \\\n",
    "                                                 eurostat_gender_economic_activities['15_years_or_over_2014_Males'] * 100\n",
    "\n",
    "eurostat_gender_economic_activities[\"male_ratio_2024\"] = eurostat_gender_economic_activities['50_years_or_over_2024_Males'] / \\\n",
    "                                                 eurostat_gender_economic_activities['15_years_or_over_2024_Males'] * 100\n",
    "\n",
    "eurostat_gender_economic_activities[\"female_diff_2014_2024\"] = eurostat_gender_economic_activities[\"female_ratio_2024\"] - \\\n",
    "                                                     eurostat_gender_economic_activities[\"female_ratio_2014\"]\n",
    "\n",
    "eurostat_gender_economic_activities[\"male_diff_2014_2024\"] = eurostat_gender_economic_activities[\"male_ratio_2024\"] - \\\n",
    "                                                     eurostat_gender_economic_activities[\"male_ratio_2014\"]\n",
    "\n",
    "eurostat_gender_economic_activities =  eurostat_gender_economic_activities.round(2).fillna(0).reset_index()"
   ]
  },
  {
   "cell_type": "code",
   "execution_count": 46,
   "id": "3804762b836ca89c",
   "metadata": {
    "ExecuteTime": {
     "end_time": "2025-06-21T11:27:51.742822Z",
     "start_time": "2025-06-21T11:27:51.740035Z"
    }
   },
   "outputs": [],
   "source": [
    "# save\n",
    "eurostat_gender_economic_activities.to_csv(\"transformed_data/eurostat_gender_economic_activities.csv\", index=False)"
   ]
  }
 ],
 "metadata": {
  "kernelspec": {
   "display_name": "lse",
   "language": "python",
   "name": "python3"
  },
  "language_info": {
   "codemirror_mode": {
    "name": "ipython",
    "version": 3
   },
   "file_extension": ".py",
   "mimetype": "text/x-python",
   "name": "python",
   "nbconvert_exporter": "python",
   "pygments_lexer": "ipython3",
   "version": "3.11.8"
  }
 },
 "nbformat": 4,
 "nbformat_minor": 5
}
