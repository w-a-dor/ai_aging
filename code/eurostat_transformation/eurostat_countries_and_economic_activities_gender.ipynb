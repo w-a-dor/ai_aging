{
 "cells": [
  {
   "cell_type": "code",
   "execution_count": 202,
   "id": "initial_id",
   "metadata": {
    "ExecuteTime": {
     "end_time": "2025-06-21T11:27:50.494402Z",
     "start_time": "2025-06-21T11:27:50.492615Z"
    },
    "collapsed": true
   },
   "outputs": [],
   "source": [
    "import pandas as pd"
   ]
  },
  {
   "cell_type": "code",
   "execution_count": 203,
   "id": "c05def1f24a928e",
   "metadata": {
    "ExecuteTime": {
     "end_time": "2025-06-21T11:27:51.194850Z",
     "start_time": "2025-06-21T11:27:50.503567Z"
    }
   },
   "outputs": [],
   "source": [
    "# --- Load data ---\n",
    "eurostat = pd.read_csv('/Users/weronikadorociak/Documents/LSE/MY498 Capstone Project/Coding/Capstone_Project/Data_cleaning/data/eurostat.csv')\n",
    "nace = pd.read_csv('data/economic_activity_sector.csv')"
   ]
  },
  {
   "cell_type": "code",
   "execution_count": 204,
   "id": "790ab0d691d178dc",
   "metadata": {
    "ExecuteTime": {
     "end_time": "2025-06-21T11:27:51.264051Z",
     "start_time": "2025-06-21T11:27:51.214004Z"
    }
   },
   "outputs": [],
   "source": [
    "# --- Prepare Eurostat aging data ---\n",
    "selected_cols = ['age', 'sex', 'nace_r2', 'geo', 'TIME_PERIOD', 'OBS_VALUE']\n",
    "eurostat = eurostat[selected_cols].copy()"
   ]
  },
  {
   "cell_type": "code",
   "execution_count": 205,
   "id": "968b2a864bce35f2",
   "metadata": {
    "ExecuteTime": {
     "end_time": "2025-06-21T11:27:51.284459Z",
     "start_time": "2025-06-21T11:27:51.282595Z"
    }
   },
   "outputs": [],
   "source": [
    "eu_countries = [\n",
    "    'Austria', 'Belgium', 'Bulgaria', 'Croatia', 'Cyprus', 'Czechia',\n",
    "    'Denmark', 'Estonia', 'Finland', 'France', 'Germany', 'Greece',\n",
    "    'Hungary', 'Ireland', 'Italy', 'Latvia', 'Lithuania', 'Luxembourg',\n",
    "    'Malta', 'Netherlands', 'Poland', 'Portugal', 'Romania', 'Slovakia',\n",
    "    'Slovenia', 'Spain', 'Sweden'\n",
    "]\n",
    "excluded = ['No response', 'Total - all NACE activities', 'Unknown NACE activity']"
   ]
  },
  {
   "cell_type": "code",
   "execution_count": 206,
   "id": "c9a4b102f7a3125f",
   "metadata": {
    "ExecuteTime": {
     "end_time": "2025-06-21T11:27:51.338659Z",
     "start_time": "2025-06-21T11:27:51.302722Z"
    }
   },
   "outputs": [],
   "source": [
    "# Filter relevant observations\n",
    "eurostat = eurostat[\n",
    "    eurostat[\"TIME_PERIOD\"].isin([2014, 2024]) &\n",
    "    (eurostat[\"age\"].isin([\"15 years or over\", \"50 years or over\"])) &\n",
    "    (eurostat[\"geo\"].isin(eu_countries))\n",
    "]\n",
    "\n",
    "eurostat = eurostat[~eurostat[\"nace_r2\"].isin(excluded)]\n",
    "eurostat.columns = ['age', 'gender', 'Economic Activity', 'country', 'year', 'num_of_workers']\n",
    "eurostat[\"num_of_workers\"] = eurostat[\"num_of_workers\"] * 1000\n",
    "\n",
    "excluded = ['No response', 'Total - all NACE activities', 'Unknown NACE activity']\n",
    "eurostat = eurostat[~eurostat[\"Economic Activity\"].isin(excluded)]\n",
    "\n",
    "eurostat = eurostat[~(eurostat[\"gender\"] == \"Total\")]\n",
    "eurostat = eurostat.merge(nace, how='left', on = \"Economic Activity\")"
   ]
  },
  {
   "cell_type": "code",
   "execution_count": 208,
   "id": "5c9977bfb98c2a80",
   "metadata": {
    "ExecuteTime": {
     "end_time": "2025-06-21T11:27:51.410004Z",
     "start_time": "2025-06-21T11:27:51.397939Z"
    }
   },
   "outputs": [
    {
     "data": {
      "text/html": [
       "<div>\n",
       "<style scoped>\n",
       "    .dataframe tbody tr th:only-of-type {\n",
       "        vertical-align: middle;\n",
       "    }\n",
       "\n",
       "    .dataframe tbody tr th {\n",
       "        vertical-align: top;\n",
       "    }\n",
       "\n",
       "    .dataframe thead tr th {\n",
       "        text-align: left;\n",
       "    }\n",
       "\n",
       "    .dataframe thead tr:last-of-type th {\n",
       "        text-align: right;\n",
       "    }\n",
       "</style>\n",
       "<table border=\"1\" class=\"dataframe\">\n",
       "  <thead>\n",
       "    <tr>\n",
       "      <th></th>\n",
       "      <th>age</th>\n",
       "      <th colspan=\"4\" halign=\"left\">15 years or over</th>\n",
       "      <th colspan=\"4\" halign=\"left\">50 years or over</th>\n",
       "    </tr>\n",
       "    <tr>\n",
       "      <th></th>\n",
       "      <th>year</th>\n",
       "      <th colspan=\"2\" halign=\"left\">2014</th>\n",
       "      <th colspan=\"2\" halign=\"left\">2024</th>\n",
       "      <th colspan=\"2\" halign=\"left\">2014</th>\n",
       "      <th colspan=\"2\" halign=\"left\">2024</th>\n",
       "    </tr>\n",
       "    <tr>\n",
       "      <th></th>\n",
       "      <th>gender</th>\n",
       "      <th>Females</th>\n",
       "      <th>Males</th>\n",
       "      <th>Females</th>\n",
       "      <th>Males</th>\n",
       "      <th>Females</th>\n",
       "      <th>Males</th>\n",
       "      <th>Females</th>\n",
       "      <th>Males</th>\n",
       "    </tr>\n",
       "    <tr>\n",
       "      <th>country</th>\n",
       "      <th>sector</th>\n",
       "      <th></th>\n",
       "      <th></th>\n",
       "      <th></th>\n",
       "      <th></th>\n",
       "      <th></th>\n",
       "      <th></th>\n",
       "      <th></th>\n",
       "      <th></th>\n",
       "    </tr>\n",
       "  </thead>\n",
       "  <tbody>\n",
       "    <tr>\n",
       "      <th rowspan=\"5\" valign=\"top\">Austria</th>\n",
       "      <th>Accommodation and food service activities</th>\n",
       "      <td>144200.0</td>\n",
       "      <td>91100.0</td>\n",
       "      <td>134100.0</td>\n",
       "      <td>109200.0</td>\n",
       "      <td>34000.0</td>\n",
       "      <td>22900.0</td>\n",
       "      <td>39500.0</td>\n",
       "      <td>29300.0</td>\n",
       "    </tr>\n",
       "    <tr>\n",
       "      <th>Activities of extraterritorial organizations</th>\n",
       "      <td>3800.0</td>\n",
       "      <td>0.0</td>\n",
       "      <td>4300.0</td>\n",
       "      <td>3100.0</td>\n",
       "      <td>0.0</td>\n",
       "      <td>0.0</td>\n",
       "      <td>0.0</td>\n",
       "      <td>0.0</td>\n",
       "    </tr>\n",
       "    <tr>\n",
       "      <th>Activities of households</th>\n",
       "      <td>0.0</td>\n",
       "      <td>0.0</td>\n",
       "      <td>0.0</td>\n",
       "      <td>0.0</td>\n",
       "      <td>0.0</td>\n",
       "      <td>0.0</td>\n",
       "      <td>0.0</td>\n",
       "      <td>0.0</td>\n",
       "    </tr>\n",
       "    <tr>\n",
       "      <th>Administrative and support service activities</th>\n",
       "      <td>63000.0</td>\n",
       "      <td>55000.0</td>\n",
       "      <td>80100.0</td>\n",
       "      <td>67100.0</td>\n",
       "      <td>14800.0</td>\n",
       "      <td>7100.0</td>\n",
       "      <td>28500.0</td>\n",
       "      <td>13900.0</td>\n",
       "    </tr>\n",
       "    <tr>\n",
       "      <th>Agriculture, forestry and fishing</th>\n",
       "      <td>88400.0</td>\n",
       "      <td>109900.0</td>\n",
       "      <td>48200.0</td>\n",
       "      <td>75500.0</td>\n",
       "      <td>44000.0</td>\n",
       "      <td>51200.0</td>\n",
       "      <td>29500.0</td>\n",
       "      <td>37400.0</td>\n",
       "    </tr>\n",
       "    <tr>\n",
       "      <th>...</th>\n",
       "      <th>...</th>\n",
       "      <td>...</td>\n",
       "      <td>...</td>\n",
       "      <td>...</td>\n",
       "      <td>...</td>\n",
       "      <td>...</td>\n",
       "      <td>...</td>\n",
       "      <td>...</td>\n",
       "      <td>...</td>\n",
       "    </tr>\n",
       "    <tr>\n",
       "      <th rowspan=\"5\" valign=\"top\">Sweden</th>\n",
       "      <th>Public administration and defence</th>\n",
       "      <td>166800.0</td>\n",
       "      <td>139900.0</td>\n",
       "      <td>256500.0</td>\n",
       "      <td>169800.0</td>\n",
       "      <td>63500.0</td>\n",
       "      <td>49400.0</td>\n",
       "      <td>95500.0</td>\n",
       "      <td>60100.0</td>\n",
       "    </tr>\n",
       "    <tr>\n",
       "      <th>Real estate activities</th>\n",
       "      <td>27400.0</td>\n",
       "      <td>48100.0</td>\n",
       "      <td>39100.0</td>\n",
       "      <td>53600.0</td>\n",
       "      <td>10100.0</td>\n",
       "      <td>24300.0</td>\n",
       "      <td>14800.0</td>\n",
       "      <td>25700.0</td>\n",
       "    </tr>\n",
       "    <tr>\n",
       "      <th>Transportation and storage</th>\n",
       "      <td>53400.0</td>\n",
       "      <td>191700.0</td>\n",
       "      <td>51800.0</td>\n",
       "      <td>175700.0</td>\n",
       "      <td>14500.0</td>\n",
       "      <td>73400.0</td>\n",
       "      <td>11200.0</td>\n",
       "      <td>67200.0</td>\n",
       "    </tr>\n",
       "    <tr>\n",
       "      <th>Water supply; sewerage, waste management</th>\n",
       "      <td>3200.0</td>\n",
       "      <td>16900.0</td>\n",
       "      <td>4500.0</td>\n",
       "      <td>21900.0</td>\n",
       "      <td>0.0</td>\n",
       "      <td>7000.0</td>\n",
       "      <td>0.0</td>\n",
       "      <td>5700.0</td>\n",
       "    </tr>\n",
       "    <tr>\n",
       "      <th>Wholesale and retail trade</th>\n",
       "      <td>246300.0</td>\n",
       "      <td>309500.0</td>\n",
       "      <td>228100.0</td>\n",
       "      <td>300200.0</td>\n",
       "      <td>49900.0</td>\n",
       "      <td>83500.0</td>\n",
       "      <td>52200.0</td>\n",
       "      <td>96100.0</td>\n",
       "    </tr>\n",
       "  </tbody>\n",
       "</table>\n",
       "<p>594 rows × 8 columns</p>\n",
       "</div>"
      ],
      "text/plain": [
       "age                                                   15 years or over  \\\n",
       "year                                                              2014   \n",
       "gender                                                         Females   \n",
       "country sector                                                           \n",
       "Austria Accommodation and food service activities             144200.0   \n",
       "        Activities of extraterritorial organizations            3800.0   \n",
       "        Activities of households                                   0.0   \n",
       "        Administrative and support service activities          63000.0   \n",
       "        Agriculture, forestry and fishing                      88400.0   \n",
       "...                                                                ...   \n",
       "Sweden  Public administration and defence                     166800.0   \n",
       "        Real estate activities                                 27400.0   \n",
       "        Transportation and storage                             53400.0   \n",
       "        Water supply; sewerage, waste management                3200.0   \n",
       "        Wholesale and retail trade                            246300.0   \n",
       "\n",
       "age                                                                        \\\n",
       "year                                                                 2024   \n",
       "gender                                                    Males   Females   \n",
       "country sector                                                              \n",
       "Austria Accommodation and food service activities       91100.0  134100.0   \n",
       "        Activities of extraterritorial organizations        0.0    4300.0   \n",
       "        Activities of households                            0.0       0.0   \n",
       "        Administrative and support service activities   55000.0   80100.0   \n",
       "        Agriculture, forestry and fishing              109900.0   48200.0   \n",
       "...                                                         ...       ...   \n",
       "Sweden  Public administration and defence              139900.0  256500.0   \n",
       "        Real estate activities                          48100.0   39100.0   \n",
       "        Transportation and storage                     191700.0   51800.0   \n",
       "        Water supply; sewerage, waste management        16900.0    4500.0   \n",
       "        Wholesale and retail trade                     309500.0  228100.0   \n",
       "\n",
       "age                                                              \\\n",
       "year                                                              \n",
       "gender                                                    Males   \n",
       "country sector                                                    \n",
       "Austria Accommodation and food service activities      109200.0   \n",
       "        Activities of extraterritorial organizations     3100.0   \n",
       "        Activities of households                            0.0   \n",
       "        Administrative and support service activities   67100.0   \n",
       "        Agriculture, forestry and fishing               75500.0   \n",
       "...                                                         ...   \n",
       "Sweden  Public administration and defence              169800.0   \n",
       "        Real estate activities                          53600.0   \n",
       "        Transportation and storage                     175700.0   \n",
       "        Water supply; sewerage, waste management        21900.0   \n",
       "        Wholesale and retail trade                     300200.0   \n",
       "\n",
       "age                                                   50 years or over  \\\n",
       "year                                                              2014   \n",
       "gender                                                         Females   \n",
       "country sector                                                           \n",
       "Austria Accommodation and food service activities              34000.0   \n",
       "        Activities of extraterritorial organizations               0.0   \n",
       "        Activities of households                                   0.0   \n",
       "        Administrative and support service activities          14800.0   \n",
       "        Agriculture, forestry and fishing                      44000.0   \n",
       "...                                                                ...   \n",
       "Sweden  Public administration and defence                      63500.0   \n",
       "        Real estate activities                                 10100.0   \n",
       "        Transportation and storage                             14500.0   \n",
       "        Water supply; sewerage, waste management                   0.0   \n",
       "        Wholesale and retail trade                             49900.0   \n",
       "\n",
       "age                                                                      \\\n",
       "year                                                               2024   \n",
       "gender                                                   Males  Females   \n",
       "country sector                                                            \n",
       "Austria Accommodation and food service activities      22900.0  39500.0   \n",
       "        Activities of extraterritorial organizations       0.0      0.0   \n",
       "        Activities of households                           0.0      0.0   \n",
       "        Administrative and support service activities   7100.0  28500.0   \n",
       "        Agriculture, forestry and fishing              51200.0  29500.0   \n",
       "...                                                        ...      ...   \n",
       "Sweden  Public administration and defence              49400.0  95500.0   \n",
       "        Real estate activities                         24300.0  14800.0   \n",
       "        Transportation and storage                     73400.0  11200.0   \n",
       "        Water supply; sewerage, waste management        7000.0      0.0   \n",
       "        Wholesale and retail trade                     83500.0  52200.0   \n",
       "\n",
       "age                                                             \n",
       "year                                                            \n",
       "gender                                                   Males  \n",
       "country sector                                                  \n",
       "Austria Accommodation and food service activities      29300.0  \n",
       "        Activities of extraterritorial organizations       0.0  \n",
       "        Activities of households                           0.0  \n",
       "        Administrative and support service activities  13900.0  \n",
       "        Agriculture, forestry and fishing              37400.0  \n",
       "...                                                        ...  \n",
       "Sweden  Public administration and defence              60100.0  \n",
       "        Real estate activities                         25700.0  \n",
       "        Transportation and storage                     67200.0  \n",
       "        Water supply; sewerage, waste management        5700.0  \n",
       "        Wholesale and retail trade                     96100.0  \n",
       "\n",
       "[594 rows x 8 columns]"
      ]
     },
     "execution_count": 208,
     "metadata": {},
     "output_type": "execute_result"
    }
   ],
   "source": [
    "# Pivot for aging ratios\n",
    "eurostat = eurostat.pivot_table(\n",
    "    index=[\"country\", \"sector\"],\n",
    "    columns=[\"age\", \"year\", \"gender\"],\n",
    "    values=\"num_of_workers\",\n",
    "    aggfunc=\"sum\"\n",
    ")"
   ]
  },
  {
   "cell_type": "code",
   "execution_count": 209,
   "id": "910e88163d1a6887",
   "metadata": {
    "ExecuteTime": {
     "end_time": "2025-06-21T11:27:51.446843Z",
     "start_time": "2025-06-21T11:27:51.443928Z"
    }
   },
   "outputs": [],
   "source": [
    "# Reset index first\n",
    "eurostat = eurostat.reset_index()\n",
    "\n",
    "# Flatten MultiIndex columns: (age_group, year, gender) → \"agegroup_year_gender\"\n",
    "eurostat.columns = [\n",
    "    f\"{col[0]}_{col[1]}_{col[2]}\" if isinstance(col, tuple) else col\n",
    "    for col in eurostat.columns\n",
    "]\n",
    "\n",
    "# Optional: replace spaces with underscores and strip trailing underscores\n",
    "eurostat.columns = [col.replace(\" \", \"_\").rstrip(\"_\") for col in eurostat.columns]"
   ]
  },
  {
   "cell_type": "code",
   "execution_count": 210,
   "id": "300b7cf58d28618f",
   "metadata": {
    "ExecuteTime": {
     "end_time": "2025-06-21T11:27:51.484507Z",
     "start_time": "2025-06-21T11:27:51.481711Z"
    }
   },
   "outputs": [],
   "source": [
    "eurostat = eurostat[~(eurostat[\"sector\"] == 'Activities of extraterritorial organizations')]\n",
    "eurostat = eurostat[~(eurostat[\"sector\"] == 'Activities of households')]"
   ]
  },
  {
   "cell_type": "code",
   "execution_count": 211,
   "id": "a75558dd27082049",
   "metadata": {
    "ExecuteTime": {
     "end_time": "2025-06-21T11:27:51.519132Z",
     "start_time": "2025-06-21T11:27:51.516362Z"
    }
   },
   "outputs": [],
   "source": [
    "eurostat_gender_countries = eurostat.groupby(\"country\")[[\n",
    "    '15_years_or_over_2014_Females',\n",
    "    '15_years_or_over_2014_Males',\n",
    "    '15_years_or_over_2024_Females',\n",
    "    '15_years_or_over_2024_Males',\n",
    "    '50_years_or_over_2014_Females',\n",
    "    '50_years_or_over_2014_Males',\n",
    "    '50_years_or_over_2024_Females',\n",
    "    '50_years_or_over_2024_Males'\n",
    "]].sum()"
   ]
  },
  {
   "cell_type": "code",
   "execution_count": 212,
   "id": "af8e33ddbfebd5cb",
   "metadata": {
    "ExecuteTime": {
     "end_time": "2025-06-21T11:27:51.539580Z",
     "start_time": "2025-06-21T11:27:51.536967Z"
    }
   },
   "outputs": [],
   "source": [
    "eurostat_gender_economic_activities = eurostat.groupby(\"sector\")[[\n",
    "    '15_years_or_over_2014_Females',\n",
    "    '15_years_or_over_2014_Males',\n",
    "    '15_years_or_over_2024_Females',\n",
    "    '15_years_or_over_2024_Males',\n",
    "    '50_years_or_over_2014_Females',\n",
    "    '50_years_or_over_2014_Males',\n",
    "    '50_years_or_over_2024_Females',\n",
    "    '50_years_or_over_2024_Males'\n",
    "]].sum()"
   ]
  },
  {
   "cell_type": "code",
   "execution_count": 214,
   "id": "f4313b9d84cf57d3",
   "metadata": {
    "ExecuteTime": {
     "end_time": "2025-06-21T11:27:51.600718Z",
     "start_time": "2025-06-21T11:27:51.596756Z"
    }
   },
   "outputs": [],
   "source": [
    "# Compute gender ratios\n",
    "eurostat_gender_countries[\"gender_ratio_2014\"] = (eurostat_gender_countries['15_years_or_over_2014_Females'] / \\\n",
    "                                                  (eurostat_gender_countries['15_years_or_over_2014_Males'] + eurostat_gender_countries['15_years_or_over_2014_Females'])) * 100\n",
    "\n",
    "eurostat_gender_countries[\"gender_ratio_2024\"] = (eurostat_gender_countries['15_years_or_over_2024_Females'] / \\\n",
    "                                                 (eurostat_gender_countries['15_years_or_over_2024_Males'] + eurostat_gender_countries['15_years_or_over_2024_Females'])) * 100\n",
    "\n",
    "eurostat_gender_countries[\"gender_ratio_2014_2024\"] = eurostat_gender_countries[\"gender_ratio_2024\"] - \\\n",
    "                                                      eurostat_gender_countries[\"gender_ratio_2014\"]\n",
    "\n",
    "eurostat_gender_countries[\"female_ratio_2014\"] = eurostat_gender_countries['50_years_or_over_2014_Females'] / \\\n",
    "                                                 eurostat_gender_countries['15_years_or_over_2014_Females'] * 100\n",
    "\n",
    "eurostat_gender_countries[\"female_ratio_2024\"] = eurostat_gender_countries['50_years_or_over_2024_Females'] / \\\n",
    "                                                 eurostat_gender_countries['15_years_or_over_2024_Females'] * 100\n",
    "\n",
    "eurostat_gender_countries[\"male_ratio_2014\"] = eurostat_gender_countries['50_years_or_over_2014_Males'] / \\\n",
    "                                                 eurostat_gender_countries['15_years_or_over_2014_Males'] * 100\n",
    "\n",
    "eurostat_gender_countries[\"male_ratio_2024\"] = eurostat_gender_countries['50_years_or_over_2024_Males'] / \\\n",
    "                                                 eurostat_gender_countries['15_years_or_over_2024_Males'] * 100\n",
    "\n",
    "eurostat_gender_countries[\"female_diff_2014_2024\"] = eurostat_gender_countries[\"female_ratio_2024\"] - \\\n",
    "                                                     eurostat_gender_countries[\"female_ratio_2014\"]\n",
    "\n",
    "eurostat_gender_countries[\"male_diff_2014_2024\"] = eurostat_gender_countries[\"male_ratio_2024\"] - \\\n",
    "                                                     eurostat_gender_countries[\"male_ratio_2014\"]"
   ]
  },
  {
   "cell_type": "code",
   "execution_count": 215,
   "id": "4b7245ffd0983c9d",
   "metadata": {
    "ExecuteTime": {
     "end_time": "2025-06-21T11:27:51.627030Z",
     "start_time": "2025-06-21T11:27:51.624589Z"
    }
   },
   "outputs": [],
   "source": [
    "eurostat_gender_countries = eurostat_gender_countries.round(2).fillna(0).reset_index()"
   ]
  },
  {
   "cell_type": "code",
   "execution_count": 217,
   "id": "6253cb8141e70ce1",
   "metadata": {
    "ExecuteTime": {
     "end_time": "2025-06-21T11:27:51.697090Z",
     "start_time": "2025-06-21T11:27:51.694729Z"
    }
   },
   "outputs": [],
   "source": [
    "eurostat_gender_countries.to_csv(\"/Users/weronikadorociak/Documents/LSE/MY498 Capstone Project/Coding/Capstone_Project/Data_cleaning/data/eurostat_gender_countries.csv\", index=False)"
   ]
  },
  {
   "cell_type": "code",
   "execution_count": 218,
   "id": "580c01ae8dc5dd11",
   "metadata": {
    "ExecuteTime": {
     "end_time": "2025-06-21T11:27:51.726957Z",
     "start_time": "2025-06-21T11:27:51.722219Z"
    }
   },
   "outputs": [],
   "source": [
    "# Compute gender ratios\n",
    "eurostat_gender_economic_activities[\"gender_ratio_2014\"] = (eurostat_gender_economic_activities['15_years_or_over_2014_Females'] / \\\n",
    "                                                  (eurostat_gender_economic_activities['15_years_or_over_2014_Males'] + eurostat_gender_economic_activities['15_years_or_over_2014_Females'])) * 100\n",
    "\n",
    "eurostat_gender_economic_activities[\"gender_ratio_2024\"] = (eurostat_gender_economic_activities['15_years_or_over_2024_Females'] / \\\n",
    "                                                  (eurostat_gender_economic_activities['15_years_or_over_2024_Males'] + eurostat_gender_economic_activities['15_years_or_over_2024_Females'])) * 100\n",
    "\n",
    "eurostat_gender_economic_activities[\"gender_ratio_2014_2024\"] = eurostat_gender_economic_activities[\"gender_ratio_2024\"] - \\\n",
    "                                                      eurostat_gender_economic_activities[\"gender_ratio_2014\"]\n",
    "\n",
    "eurostat_gender_economic_activities[\"female_ratio_2014\"] = eurostat_gender_economic_activities['50_years_or_over_2014_Females'] / \\\n",
    "                                                 eurostat_gender_economic_activities['15_years_or_over_2014_Females'] * 100\n",
    "\n",
    "eurostat_gender_economic_activities[\"female_ratio_2024\"] = eurostat_gender_economic_activities['50_years_or_over_2024_Females'] / \\\n",
    "                                                 eurostat_gender_economic_activities['15_years_or_over_2024_Females'] * 100\n",
    "\n",
    "eurostat_gender_economic_activities[\"male_ratio_2014\"] = eurostat_gender_economic_activities['50_years_or_over_2014_Males'] / \\\n",
    "                                                 eurostat_gender_economic_activities['15_years_or_over_2014_Males'] * 100\n",
    "\n",
    "eurostat_gender_economic_activities[\"male_ratio_2024\"] = eurostat_gender_economic_activities['50_years_or_over_2024_Males'] / \\\n",
    "                                                 eurostat_gender_economic_activities['15_years_or_over_2024_Males'] * 100\n",
    "\n",
    "eurostat_gender_economic_activities[\"female_diff_2014_2024\"] = eurostat_gender_economic_activities[\"female_ratio_2024\"] - \\\n",
    "                                                     eurostat_gender_economic_activities[\"female_ratio_2014\"]\n",
    "\n",
    "eurostat_gender_economic_activities[\"male_diff_2014_2024\"] = eurostat_gender_economic_activities[\"male_ratio_2024\"] - \\\n",
    "                                                     eurostat_gender_economic_activities[\"male_ratio_2014\"]\n",
    "\n",
    "eurostat_gender_economic_activities =  eurostat_gender_economic_activities.round(2).fillna(0).reset_index()"
   ]
  },
  {
   "cell_type": "code",
   "execution_count": 219,
   "id": "3804762b836ca89c",
   "metadata": {
    "ExecuteTime": {
     "end_time": "2025-06-21T11:27:51.742822Z",
     "start_time": "2025-06-21T11:27:51.740035Z"
    }
   },
   "outputs": [],
   "source": [
    "eurostat_gender_economic_activities.to_csv(\"/Users/weronikadorociak/Documents/LSE/MY498 Capstone Project/Coding/Capstone_Project/Data_cleaning/data/eurostat_gender_economic_activities.csv\", index=False)"
   ]
  }
 ],
 "metadata": {
  "kernelspec": {
   "display_name": "Python (ml)",
   "language": "python",
   "name": "ml"
  },
  "language_info": {
   "codemirror_mode": {
    "name": "ipython",
    "version": 2
   },
   "file_extension": ".py",
   "mimetype": "text/x-python",
   "name": "python",
   "nbconvert_exporter": "python",
   "pygments_lexer": "ipython2",
   "version": "2.7.6"
  }
 },
 "nbformat": 4,
 "nbformat_minor": 5
}
