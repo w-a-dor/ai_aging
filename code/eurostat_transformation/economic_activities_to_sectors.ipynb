{
 "cells": [
  {
   "cell_type": "code",
   "id": "initial_id",
   "metadata": {
    "collapsed": true,
    "jupyter": {
     "is_executing": true
    }
   },
   "source": [
    "import pandas as pd"
   ],
   "outputs": [],
   "execution_count": null
  },
  {
   "cell_type": "code",
   "execution_count": 2,
   "id": "9f154d63c2edfc37",
   "metadata": {
    "ExecuteTime": {
     "end_time": "2025-07-30T13:27:56.657399Z",
     "start_time": "2025-07-30T11:37:03.791097Z"
    }
   },
   "outputs": [],
   "source": [
    "nace = pd.read_excel('/Users/weronikadorociak/Documents/LSE/MY498 Capstone Project/Coding/Capstone_Project/Data_cleaning/data/nace.xlsx')"
   ]
  },
  {
   "cell_type": "code",
   "execution_count": 3,
   "id": "ee8fe3f259b9998c",
   "metadata": {
    "ExecuteTime": {
     "end_time": "2025-07-30T13:27:56.657852Z",
     "start_time": "2025-07-30T11:37:10.703408Z"
    }
   },
   "outputs": [],
   "source": [
    "nace[['Sector code', 'sector']] = nace['Sector (Section)'].str.extract(r'([A-Z])\\s+–\\s+(.*)')"
   ]
  },
  {
   "cell_type": "code",
   "execution_count": 4,
   "id": "c3a7fccbf4c9e0a1",
   "metadata": {
    "ExecuteTime": {
     "end_time": "2025-07-30T13:27:56.657955Z",
     "start_time": "2025-07-30T11:37:16.070863Z"
    }
   },
   "outputs": [],
   "source": [
    "nace = nace[[\"Economic Activity\", \"sector\"]]"
   ]
  },
  {
   "cell_type": "code",
   "execution_count": 5,
   "id": "7d746a80a2ac4af1",
   "metadata": {
    "ExecuteTime": {
     "end_time": "2025-07-30T13:27:56.658034Z",
     "start_time": "2025-07-30T11:37:21.844803Z"
    }
   },
   "outputs": [],
   "source": [
    "nace.to_csv(\"/Users/weronikadorociak/Documents/LSE/MY498 Capstone Project/Coding/Capstone_Project/Data_cleaning/data/economic_activity_sector.csv\", index=False)"
   ]
  }
 ],
 "metadata": {
  "kernelspec": {
   "display_name": "Python 3",
   "language": "python",
   "name": "python3"
  },
  "language_info": {
   "codemirror_mode": {
    "name": "ipython",
    "version": 2
   },
   "file_extension": ".py",
   "mimetype": "text/x-python",
   "name": "python",
   "nbconvert_exporter": "python",
   "pygments_lexer": "ipython2",
   "version": "2.7.6"
  }
 },
 "nbformat": 4,
 "nbformat_minor": 5
}
