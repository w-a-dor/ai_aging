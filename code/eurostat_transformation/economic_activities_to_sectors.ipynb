{
 "cells": [
  {
   "cell_type": "code",
   "execution_count": 8,
   "id": "initial_id",
   "metadata": {
    "collapsed": true,
    "jupyter": {
     "is_executing": true
    }
   },
   "outputs": [],
   "source": [
    "import pandas as pd"
   ]
  },
  {
   "cell_type": "code",
   "execution_count": 10,
   "id": "9f154d63c2edfc37",
   "metadata": {
    "ExecuteTime": {
     "end_time": "2025-07-30T13:27:56.657399Z",
     "start_time": "2025-07-30T11:37:03.791097Z"
    }
   },
   "outputs": [],
   "source": [
    "# load data\n",
    "nace = pd.read_excel(\"original_data/nace.xlsx\")"
   ]
  },
  {
   "cell_type": "code",
   "execution_count": 11,
   "id": "ee8fe3f259b9998c",
   "metadata": {
    "ExecuteTime": {
     "end_time": "2025-07-30T13:27:56.657852Z",
     "start_time": "2025-07-30T11:37:10.703408Z"
    }
   },
   "outputs": [],
   "source": [
    "# Extract names of sectors\n",
    "nace[['Sector code', 'sector']] = nace['Sector (Section)'].str.extract(r'([A-Z])\\s+–\\s+(.*)')"
   ]
  },
  {
   "cell_type": "code",
   "execution_count": 12,
   "id": "c3a7fccbf4c9e0a1",
   "metadata": {
    "ExecuteTime": {
     "end_time": "2025-07-30T13:27:56.657955Z",
     "start_time": "2025-07-30T11:37:16.070863Z"
    }
   },
   "outputs": [],
   "source": [
    "# Keep only relevant columns\n",
    "nace = nace[[\"Economic Activity\", \"sector\"]]"
   ]
  },
  {
   "cell_type": "code",
   "execution_count": 14,
   "id": "7d746a80a2ac4af1",
   "metadata": {
    "ExecuteTime": {
     "end_time": "2025-07-30T13:27:56.658034Z",
     "start_time": "2025-07-30T11:37:21.844803Z"
    }
   },
   "outputs": [],
   "source": [
    "# Save\n",
    "\n",
    "nace.to_csv(\"transformed_data/economic_activity_sector.csv\", index=False)"
   ]
  }
 ],
 "metadata": {
  "kernelspec": {
   "display_name": "Python 3",
   "language": "python",
   "name": "python3"
  },
  "language_info": {
   "codemirror_mode": {
    "name": "ipython",
    "version": 3
   },
   "file_extension": ".py",
   "mimetype": "text/x-python",
   "name": "python",
   "nbconvert_exporter": "python",
   "pygments_lexer": "ipython3",
   "version": "3.11.8"
  }
 },
 "nbformat": 4,
 "nbformat_minor": 5
}
