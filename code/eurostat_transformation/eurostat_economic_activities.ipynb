{
 "cells": [
  {
   "cell_type": "code",
   "execution_count": 36,
   "id": "initial_id",
   "metadata": {
    "ExecuteTime": {
     "end_time": "2025-06-20T11:21:26.550368Z",
     "start_time": "2025-06-20T11:21:26.547958Z"
    },
    "collapsed": true
   },
   "outputs": [],
   "source": [
    "import pandas as pd"
   ]
  },
  {
   "cell_type": "code",
   "execution_count": 37,
   "id": "c05def1f24a928e",
   "metadata": {
    "ExecuteTime": {
     "end_time": "2025-06-20T11:21:27.948465Z",
     "start_time": "2025-06-20T11:21:27.225220Z"
    }
   },
   "outputs": [],
   "source": [
    "# --- Load data ---\n",
    "eurostat = pd.read_csv('original_data/eurostat.csv')\n",
    "nace = pd.read_csv('transformed_data/economic_activity_sector.csv')"
   ]
  },
  {
   "cell_type": "code",
   "execution_count": 38,
   "id": "790ab0d691d178dc",
   "metadata": {
    "ExecuteTime": {
     "end_time": "2025-06-20T11:21:29.032015Z",
     "start_time": "2025-06-20T11:21:28.959599Z"
    }
   },
   "outputs": [],
   "source": [
    "# --- Prepare Eurostat aging data ---\n",
    "selected_cols = ['age', 'sex', 'nace_r2', 'geo', 'TIME_PERIOD', 'OBS_VALUE']\n",
    "eurostat = eurostat[selected_cols].copy()"
   ]
  },
  {
   "cell_type": "code",
   "execution_count": 39,
   "id": "968b2a864bce35f2",
   "metadata": {
    "ExecuteTime": {
     "end_time": "2025-06-20T11:21:32.071428Z",
     "start_time": "2025-06-20T11:21:32.068348Z"
    }
   },
   "outputs": [],
   "source": [
    "eu_countries = [\n",
    "    'Austria', 'Belgium', 'Bulgaria', 'Croatia', 'Cyprus', 'Czechia',\n",
    "    'Denmark', 'Estonia', 'Finland', 'France', 'Germany', 'Greece',\n",
    "    'Hungary', 'Ireland', 'Italy', 'Latvia', 'Lithuania', 'Luxembourg',\n",
    "    'Malta', 'Netherlands', 'Poland', 'Portugal', 'Romania', 'Slovakia',\n",
    "    'Slovenia', 'Spain', 'Sweden'\n",
    "]\n",
    "excluded = ['No response', 'Total - all NACE activities', 'Unknown NACE activity']"
   ]
  },
  {
   "cell_type": "code",
   "execution_count": 40,
   "id": "c9a4b102f7a3125f",
   "metadata": {
    "ExecuteTime": {
     "end_time": "2025-06-20T11:21:33.372382Z",
     "start_time": "2025-06-20T11:21:33.314597Z"
    }
   },
   "outputs": [],
   "source": [
    "# Filter relevant observations\n",
    "eurostat = eurostat[\n",
    "    eurostat[\"TIME_PERIOD\"].isin([2014, 2024]) &\n",
    "    (eurostat[\"sex\"] == \"Total\") &\n",
    "    (eurostat[\"age\"].isin([\"15 years or over\", \"50 years or over\"])) &\n",
    "    (eurostat[\"geo\"].isin(eu_countries)) \n",
    "]\n",
    "eurostat = eurostat[~eurostat[\"nace_r2\"].isin(excluded)]"
   ]
  },
  {
   "cell_type": "code",
   "execution_count": 41,
   "id": "4828bf64a07ef0bd",
   "metadata": {
    "ExecuteTime": {
     "end_time": "2025-06-20T11:21:35.270543Z",
     "start_time": "2025-06-20T11:21:35.261174Z"
    }
   },
   "outputs": [],
   "source": [
    "eurostat = eurostat.merge(nace, how='left', left_on='nace_r2', right_on = \"Economic Activity\")"
   ]
  },
  {
   "cell_type": "code",
   "execution_count": 43,
   "id": "2b179059dcdb97ac",
   "metadata": {
    "ExecuteTime": {
     "end_time": "2025-06-20T11:22:05.114387Z",
     "start_time": "2025-06-20T11:22:05.109824Z"
    }
   },
   "outputs": [],
   "source": [
    "eurostat = eurostat[['age', 'sector', 'geo', 'TIME_PERIOD', 'OBS_VALUE']]\n",
    "eurostat.columns = ['age', 'sector', 'country', 'year', 'num_of_workers']"
   ]
  },
  {
   "cell_type": "code",
   "execution_count": 44,
   "id": "9622d0f45a86d6d3",
   "metadata": {
    "ExecuteTime": {
     "end_time": "2025-06-20T11:22:30.974415Z",
     "start_time": "2025-06-20T11:22:30.966827Z"
    }
   },
   "outputs": [],
   "source": [
    "eurostat_economic_activity = eurostat.groupby([\"sector\", \"year\", \"age\"])[\"num_of_workers\"].sum().reset_index()\n",
    "eurostat_economic_activity[\"num_of_workers\"] = eurostat_economic_activity[\"num_of_workers\"] * 1000"
   ]
  },
  {
   "cell_type": "code",
   "execution_count": 45,
   "id": "5c9977bfb98c2a80",
   "metadata": {
    "ExecuteTime": {
     "end_time": "2025-06-20T11:22:39.229355Z",
     "start_time": "2025-06-20T11:22:39.222659Z"
    }
   },
   "outputs": [],
   "source": [
    "# Pivot for aging ratios\n",
    "eurostat_economic_activity = eurostat_economic_activity.pivot_table(\n",
    "    index=[\"sector\"],\n",
    "    columns=[\"age\", \"year\"],\n",
    "    values=\"num_of_workers\",\n",
    "    aggfunc=\"sum\"\n",
    ")"
   ]
  },
  {
   "cell_type": "code",
   "execution_count": 46,
   "id": "910e88163d1a6887",
   "metadata": {
    "ExecuteTime": {
     "end_time": "2025-06-20T11:22:40.240194Z",
     "start_time": "2025-06-20T11:22:40.236608Z"
    }
   },
   "outputs": [],
   "source": [
    "# Flatten MultiIndex and rename columns for merging\n",
    "eurostat_economic_activity = eurostat_economic_activity.reset_index()\n",
    "eurostat_economic_activity.columns = [\n",
    "    f\"{col[0]}_{col[1]}\" if isinstance(col, tuple) else col\n",
    "    for col in eurostat_economic_activity.columns\n",
    "]\n",
    "eurostat_economic_activity.columns = [col.rstrip(\"_\") for col in eurostat_economic_activity.columns]"
   ]
  },
  {
   "cell_type": "code",
   "execution_count": 47,
   "id": "f4313b9d84cf57d3",
   "metadata": {
    "ExecuteTime": {
     "end_time": "2025-06-20T11:22:43.838567Z",
     "start_time": "2025-06-20T11:22:43.833954Z"
    }
   },
   "outputs": [],
   "source": [
    "# Compute aging ratios\n",
    "eurostat_economic_activity[\"aging_score_2014\"] = eurostat_economic_activity[\"50 years or over_2014\"] / eurostat_economic_activity[\"15 years or over_2014\"] * 100\n",
    "eurostat_economic_activity[\"aging_score_2024\"] = eurostat_economic_activity[\"50 years or over_2024\"] / eurostat_economic_activity[\"15 years or over_2024\"] * 100\n",
    "eurostat_economic_activity[\"aging_diff_2014_2024\"] = (eurostat_economic_activity[\"aging_score_2024\"] - eurostat_economic_activity[\"aging_score_2014\"])"
   ]
  },
  {
   "cell_type": "code",
   "execution_count": 49,
   "id": "b40a24a7729ed111",
   "metadata": {
    "ExecuteTime": {
     "end_time": "2025-06-20T11:23:01.189624Z",
     "start_time": "2025-06-20T11:23:01.184220Z"
    }
   },
   "outputs": [],
   "source": [
    "eurostat_economic_activity.to_csv(\"transformed_data/eurostat_economic_activity.csv\", index=False)"
   ]
  }
 ],
 "metadata": {
  "kernelspec": {
   "display_name": "Python (ml)",
   "language": "python",
   "name": "ml"
  },
  "language_info": {
   "codemirror_mode": {
    "name": "ipython",
    "version": 2
   },
   "file_extension": ".py",
   "mimetype": "text/x-python",
   "name": "python",
   "nbconvert_exporter": "python",
   "pygments_lexer": "ipython2",
   "version": "2.7.6"
  }
 },
 "nbformat": 4,
 "nbformat_minor": 5
}
